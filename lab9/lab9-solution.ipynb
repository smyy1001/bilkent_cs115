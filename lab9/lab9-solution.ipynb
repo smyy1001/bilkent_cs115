{
 "cells": [
  {
   "cell_type": "code",
   "execution_count": 2,
   "id": "d65eb303",
   "metadata": {},
   "outputs": [
    {
     "data": {
      "text/plain": [
       "'\\n Author: Sumeyye Acar\\n Id: 22103640\\n Course: CS-115\\n Semester: Summer 2023\\n Assignment: Lab09\\n'"
      ]
     },
     "execution_count": 2,
     "metadata": {},
     "output_type": "execute_result"
    }
   ],
   "source": [
    "\"\"\"\n",
    " Author: Sumeyye Acar\n",
    " Id: 22103640\n",
    " Course: CS-115\n",
    " Semester: Summer 2023\n",
    " Assignment: Lab09\n",
    "\"\"\""
   ]
  },
  {
   "cell_type": "markdown",
   "id": "441775d6",
   "metadata": {},
   "source": [
    "## *Question 01*"
   ]
  },
  {
   "cell_type": "markdown",
   "id": "99f05754",
   "metadata": {},
   "source": [
    "a. First import numpy"
   ]
  },
  {
   "cell_type": "code",
   "execution_count": 3,
   "id": "a87e39d4",
   "metadata": {},
   "outputs": [],
   "source": [
    "import numpy as np"
   ]
  },
  {
   "cell_type": "markdown",
   "id": "3a4b51c8",
   "metadata": {},
   "source": [
    "b. import the data from the files onto 3 separate numpy arrays."
   ]
  },
  {
   "cell_type": "markdown",
   "id": "15bc3743",
   "metadata": {},
   "source": [
    "- country_data stores country and region data"
   ]
  },
  {
   "cell_type": "code",
   "execution_count": 4,
   "id": "7fda1278",
   "metadata": {},
   "outputs": [],
   "source": [
    "country = np.loadtxt( 'country_data.txt', skiprows = 1, dtype = 'str', delimiter='\\t' )"
   ]
  },
  {
   "cell_type": "markdown",
   "id": "890edcb6",
   "metadata": {},
   "source": [
    "- ind_01 stores the indicators from the 01_indicator_one file"
   ]
  },
  {
   "cell_type": "code",
   "execution_count": 5,
   "id": "4ec23c8b",
   "metadata": {},
   "outputs": [],
   "source": [
    "ind_01 = np.loadtxt( '01_indicator.txt', skiprows = 1, delimiter = '\\t' )"
   ]
  },
  {
   "cell_type": "markdown",
   "id": "c71f4198",
   "metadata": {},
   "source": [
    "- ind_02 stores the indicators from the 02_indicator file"
   ]
  },
  {
   "cell_type": "code",
   "execution_count": 6,
   "id": "7a31aad7",
   "metadata": {},
   "outputs": [],
   "source": [
    "ind_02 = np.loadtxt( '02_indicator.txt', skiprows = 1, delimiter = '\\t' )"
   ]
  },
  {
   "cell_type": "markdown",
   "id": "d6f5a366",
   "metadata": {},
   "source": [
    "c. Create a new array h_data where the first column is the 02_indicator data and the remaining columns are from 02_indicator\n"
   ]
  },
  {
   "cell_type": "code",
   "execution_count": 7,
   "id": "3062d17b",
   "metadata": {},
   "outputs": [],
   "source": [
    "ind_data = np.hstack( [ind_02.reshape( (len(ind_02), 1) ), ind_01,] )"
   ]
  },
  {
   "cell_type": "markdown",
   "id": "c4b1aa4f",
   "metadata": {},
   "source": [
    "d. Increase the healthy life expectancy values in ind_data by 10%"
   ]
  },
  {
   "cell_type": "code",
   "execution_count": 8,
   "id": "d5619b49",
   "metadata": {},
   "outputs": [],
   "source": [
    "ind_data[:,2] *= 0.95"
   ]
  },
  {
   "cell_type": "markdown",
   "id": "93cc84d5",
   "metadata": {},
   "source": [
    "e. #display the names of the countries in Middle East and North Africa"
   ]
  },
  {
   "cell_type": "code",
   "execution_count": 9,
   "id": "4533fce1",
   "metadata": {},
   "outputs": [
    {
     "name": "stdout",
     "output_type": "stream",
     "text": [
      "['Algeria' 'Bahrain' 'Egypt' 'Iran' 'Iraq' 'Israel' 'Jordan' 'Kuwait'\n",
      " 'Lebanon' 'Libya' 'Morocco' 'Palestinian Territories' 'Saudi Arabia'\n",
      " 'Tunisia' 'Turkey' 'United Arab Emirates' 'Yemen']\n"
     ]
    }
   ],
   "source": [
    "print( country[country[:,0] == \"Middle East and North Africa\" ][:,1] )"
   ]
  },
  {
   "cell_type": "markdown",
   "id": "c17a367d",
   "metadata": {},
   "source": [
    "f.Display the social support values for the countries in Middle East and North Africa"
   ]
  },
  {
   "cell_type": "code",
   "execution_count": 10,
   "id": "f8b228ba",
   "metadata": {},
   "outputs": [
    {
     "name": "stdout",
     "output_type": "stream",
     "text": [
      "[0.821 0.873 0.813 0.844 0.891 0.827 0.71  0.767 0.94  0.774 0.779 0.744\n",
      " 0.764 0.934 0.908 0.934 0.879]\n"
     ]
    }
   ],
   "source": [
    "print( ind_data[country[:,0] == \"Middle East and North Africa\" ][:,1] )"
   ]
  },
  {
   "cell_type": "markdown",
   "id": "01c02588",
   "metadata": {},
   "source": [
    "g. Find and display the mean gdp value for all countries"
   ]
  },
  {
   "cell_type": "code",
   "execution_count": 11,
   "id": "83bc9008",
   "metadata": {},
   "outputs": [
    {
     "name": "stdout",
     "output_type": "stream",
     "text": [
      "Average GDP: 9.432\n"
     ]
    }
   ],
   "source": [
    "mean_val = np.mean( ind_data[:,0] )\n",
    "print( f\"Average GDP: {mean_val:.3f}\" )"
   ]
  },
  {
   "cell_type": "markdown",
   "id": "ae52b26f",
   "metadata": {},
   "source": [
    "h. Find the countries with below average gdp store as countries"
   ]
  },
  {
   "cell_type": "code",
   "execution_count": 12,
   "id": "e25f62df",
   "metadata": {},
   "outputs": [],
   "source": [
    "countries = country[ind_data[:,0] < mean_val][:,1]"
   ]
  },
  {
   "cell_type": "markdown",
   "id": "ad166a5f",
   "metadata": {},
   "source": [
    "i.  Find the gdps of the countries with below average gdp and store as gdp"
   ]
  },
  {
   "cell_type": "code",
   "execution_count": 13,
   "id": "c71ae069",
   "metadata": {},
   "outputs": [],
   "source": [
    "gdp = ind_data[ind_data[:,0] < mean_val][:,0]"
   ]
  },
  {
   "cell_type": "markdown",
   "id": "cd757de1",
   "metadata": {},
   "source": [
    "j.Create a two dimensional array where the first column contains the names of the countries with gdp average gdp and the second column is the gdp of those countries."
   ]
  },
  {
   "cell_type": "code",
   "execution_count": 14,
   "id": "8cf8c096",
   "metadata": {},
   "outputs": [],
   "source": [
    "gdp_data = np.array( [countries,gdp] ).T"
   ]
  },
  {
   "cell_type": "markdown",
   "id": "6dbad76e",
   "metadata": {},
   "source": [
    "k. Display the countries and their gdps from step j."
   ]
  },
  {
   "cell_type": "code",
   "execution_count": 15,
   "id": "13f45315",
   "metadata": {},
   "outputs": [
    {
     "name": "stdout",
     "output_type": "stream",
     "text": [
      "Countries and their gdps with below average gdp: \n",
      "[['Algeria' '9.318']\n",
      " ['Bulgaria' '8.836']\n",
      " ['Cambodia' '8.538']\n",
      " ['Chad' '8.091']\n",
      " ['Czech Republic' '9.4']\n",
      " ['Egypt' '9.053']\n",
      " ['Finland' '9.186']\n",
      " ['Gambia' '9.054']\n",
      " ['Germany' '8.62']\n",
      " ['Greece' '8.648']\n",
      " ['Guinea' '9.313']\n",
      " ['Haiti' '9.046']\n",
      " ['Hungary' '9.073']\n",
      " ['Iceland' '7.477']\n",
      " ['Ivory Coast' '8.903']\n",
      " ['Jamaica' '9.342']\n",
      " ['Japan' '9.24']\n",
      " ['Kazakhstan' '9.266']\n",
      " ['Kosovo' '8.485']\n",
      " ['Kuwait' '9.182']\n",
      " ['Kyrgyzstan' '9.367']\n",
      " ['Laos' '7.578']\n",
      " ['Libya' '8.12']\n",
      " ['Luxembourg' '8.454']\n",
      " ['Madagascar' '8.458']\n",
      " ['Malaysia' '8.755']\n",
      " ['Maldives' '7.695']\n",
      " ['Mauritania' '9.076']\n",
      " ['Mauritius' '8.973']\n",
      " ['Moldova' '9.365']\n",
      " ['Mongolia' '8.947']\n",
      " ['Montenegro' '8.36']\n",
      " ['Morocco' '8.541']\n",
      " ['Myanmar' '8.117']\n",
      " ['Namibia' '8.551']\n",
      " ['Nepal' '8.189']\n",
      " ['Netherlands' '8.118']\n",
      " ['New Zealand' '8.58']\n",
      " ['Nicaragua' '7.098']\n",
      " ['Niger' '7.686']\n",
      " ['Nigeria' '8.087']\n",
      " ['North Cyprus' '7.838']\n",
      " ['North Macedonia' '9.403']\n",
      " ['Pakistan' '7.678']\n",
      " ['Palestinian Territories' '7.158']\n",
      " ['Panama' '8.533']\n",
      " ['Paraguay' '7.744']\n",
      " ['Peru' '7.677']\n",
      " ['Philippines' '7.288']\n",
      " ['Poland' '8.361']\n",
      " ['Portugal' '9.161']\n",
      " ['Romania' '7.364']\n",
      " ['Russia' '9.065']\n",
      " ['Rwanda' '8.031']\n",
      " ['Saudi Arabia' '7.694']\n",
      " ['Senegal' '8.542']\n",
      " ['Serbia' '7.396']\n",
      " ['Sierra Leone' '7.362']\n",
      " ['Singapore' '8.145']\n",
      " ['Slovakia' '7.434']\n",
      " ['Slovenia' '6.635']\n",
      " ['South Africa' '7.876']\n",
      " ['South Korea' '6.958']\n",
      " ['Spain' '7.926']\n",
      " ['Swaziland' '7.676']\n",
      " ['Sweden' '7.943']]\n"
     ]
    }
   ],
   "source": [
    "print( \"Countries and their gdps with below average gdp: \" )\n",
    "print( gdp_data )"
   ]
  },
  {
   "cell_type": "markdown",
   "id": "9fe53452",
   "metadata": {},
   "source": [
    "l. Output the data to a file below_gdp.txt"
   ]
  },
  {
   "cell_type": "code",
   "execution_count": 16,
   "id": "5f776678",
   "metadata": {},
   "outputs": [],
   "source": [
    "np.savetxt( \"below_gdp.txt\", gdp_data, fmt='%s' )"
   ]
  },
  {
   "cell_type": "markdown",
   "id": "997871b5",
   "metadata": {},
   "source": [
    "m. Display the regions with at least 1 country with freedom to make life choices over 0.9 (no duplicates)"
   ]
  },
  {
   "cell_type": "code",
   "execution_count": 17,
   "id": "64b3e657",
   "metadata": {},
   "outputs": [
    {
     "name": "stdout",
     "output_type": "stream",
     "text": [
      "['Central and Eastern Europe' 'Commonwealth of Independent States'\n",
      " 'East Asia' 'Latin America and Caribbean' 'Middle East and North Africa'\n",
      " 'North America and ANZ' 'Southeast Asia' 'Sub-Saharan Africa'\n",
      " 'Western Europe']\n"
     ]
    }
   ],
   "source": [
    "regions_above = country[ind_data[:,3] > 0.9][:,0]\n",
    "print( np.unique( regions_above ) )"
   ]
  }
 ],
 "metadata": {
  "kernelspec": {
   "display_name": "Python 3",
   "language": "python",
   "name": "python3"
  },
  "language_info": {
   "codemirror_mode": {
    "name": "ipython",
    "version": 3
   },
   "file_extension": ".py",
   "mimetype": "text/x-python",
   "name": "python",
   "nbconvert_exporter": "python",
   "pygments_lexer": "ipython3",
   "version": "3.9.9"
  }
 },
 "nbformat": 4,
 "nbformat_minor": 5
}
